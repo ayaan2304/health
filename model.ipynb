{
 "cells": [
  {
   "cell_type": "code",
   "execution_count": 8,
   "id": "8b77f781",
   "metadata": {},
   "outputs": [],
   "source": [
    "import numpy as np\n",
    "import pandas as pd\n",
    "from sklearn.ensemble import RandomForestClassifier\n",
    "from sklearn.model_selection import train_test_split\n",
    "from sklearn.metrics import accuracy_score\n",
    "import joblib"
   ]
  },
  {
   "cell_type": "code",
   "execution_count": 2,
   "id": "300321a5",
   "metadata": {},
   "outputs": [
    {
     "name": "stdout",
     "output_type": "stream",
     "text": [
      "Model accuracy on test set: 100.00%\n"
     ]
    }
   ],
   "source": [
    "df = pd.read_csv('structural_sensor_data.csv')\n",
    "\n",
    "# Prepare features and labels\n",
    "X = df[['ax_g', 'ay_g', 'az_g', 'totalAccel', 'vibration', 'bending']]\n",
    "y = df['status'].map({'SAFE': 0, 'DANGER': 1})\n",
    "\n",
    "# Train/test split\n",
    "X_train, X_test, y_train, y_test = train_test_split(X, y, test_size=0.2, random_state=42)\n",
    "\n",
    "# Train model\n",
    "model = RandomForestClassifier()\n",
    "model.fit(X_train, y_train)\n",
    "\n",
    "# Evaluate accuracy on test set\n",
    "y_pred_test = model.predict(X_test)\n",
    "accuracy = accuracy_score(y_test, y_pred_test)\n",
    "print(f\"Model accuracy on test set: {accuracy:.2%}\")"
   ]
  },
  {
   "cell_type": "code",
   "execution_count": 3,
   "id": "4da2aac6",
   "metadata": {},
   "outputs": [],
   "source": [
    "def predict_status(ax_g, ay_g, az_g, vibration, bending):\n",
    "    totalAccel = np.sqrt(ax_g**2 + ay_g**2 + az_g**2)\n",
    "    input_df = pd.DataFrame([{\n",
    "        'ax_g': ax_g,\n",
    "        'ay_g': ay_g,\n",
    "        'az_g': az_g,\n",
    "        'totalAccel': totalAccel,\n",
    "        'vibration': vibration,\n",
    "        'bending': bending\n",
    "    }])\n",
    "    pred = model.predict(input_df)[0]\n",
    "    return \"DANGER\" if pred == 1 else \"SAFE\"\n"
   ]
  },
  {
   "cell_type": "code",
   "execution_count": 4,
   "id": "b6c6d520",
   "metadata": {},
   "outputs": [
    {
     "name": "stdout",
     "output_type": "stream",
     "text": [
      "Prediction: SAFE\n"
     ]
    }
   ],
   "source": [
    "ax_g = 0.45\n",
    "ay_g = 0.6\n",
    "az_g = 0.9\n",
    "vibration = 300\n",
    "bending = 100\n",
    "\n",
    "# Predict\n",
    "result = predict_status(ax_g, ay_g, az_g, vibration, bending)\n",
    "print(\"Prediction:\", result)\n"
   ]
  },
  {
   "cell_type": "code",
   "execution_count": 5,
   "id": "05b87c65",
   "metadata": {},
   "outputs": [
    {
     "name": "stdout",
     "output_type": "stream",
     "text": [
      "Prediction: DANGER\n"
     ]
    }
   ],
   "source": [
    "ax_g = 0.45\n",
    "ay_g = 2.6\n",
    "az_g = 1.9\n",
    "vibration = 700\n",
    "bending = 100\n",
    "\n",
    "# Predict\n",
    "result = predict_status(ax_g, ay_g, az_g, vibration, bending)\n",
    "print(\"Prediction:\", result)\n"
   ]
  },
  {
   "cell_type": "code",
   "execution_count": 9,
   "id": "452085db",
   "metadata": {},
   "outputs": [
    {
     "ename": "NameError",
     "evalue": "name 'structural_sensor_data' is not defined",
     "output_type": "error",
     "traceback": [
      "\u001b[1;31m---------------------------------------------------------------------------\u001b[0m",
      "\u001b[1;31mNameError\u001b[0m                                 Traceback (most recent call last)",
      "Cell \u001b[1;32mIn[9], line 1\u001b[0m\n\u001b[1;32m----> 1\u001b[0m joblib\u001b[38;5;241m.\u001b[39mdump(structural_sensor_data, \u001b[38;5;124m'\u001b[39m\u001b[38;5;124mmodel.pkl\u001b[39m\u001b[38;5;124m'\u001b[39m)\n",
      "\u001b[1;31mNameError\u001b[0m: name 'structural_sensor_data' is not defined"
     ]
    }
   ],
   "source": [
    "\n",
    "joblib.dump(structural_sensor_data, 'model.pkl')\n"
   ]
  },
  {
   "cell_type": "code",
   "execution_count": null,
   "id": "ec395ed1",
   "metadata": {},
   "outputs": [],
   "source": []
  }
 ],
 "metadata": {
  "kernelspec": {
   "display_name": "base",
   "language": "python",
   "name": "python3"
  },
  "language_info": {
   "codemirror_mode": {
    "name": "ipython",
    "version": 3
   },
   "file_extension": ".py",
   "mimetype": "text/x-python",
   "name": "python",
   "nbconvert_exporter": "python",
   "pygments_lexer": "ipython3",
   "version": "3.12.7"
  }
 },
 "nbformat": 4,
 "nbformat_minor": 5
}
